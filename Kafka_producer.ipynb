{
 "cells": [
  {
   "cell_type": "code",
   "execution_count": 1,
   "id": "a1a49c92-2cfa-474b-93f7-497afea850d0",
   "metadata": {},
   "outputs": [],
   "source": [
    "import pandas as pd\n",
    "from confluent_kafka import Producer \n",
    "from time import sleep\n",
    "from json import dumps\n",
    "import json"
   ]
  },
  {
   "cell_type": "code",
   "execution_count": 12,
   "id": "42fc3929-3846-4de0-ba1c-a28e67aeaf7a",
   "metadata": {},
   "outputs": [
    {
     "name": "stdout",
     "output_type": "stream",
     "text": [
      "Sent message to demo_stock_project: {'hello': 'world'}\n"
     ]
    }
   ],
   "source": [
    "from confluent_kafka import Producer\n",
    "import json\n",
    "\n",
    "conf = {\n",
    "    'bootstrap.servers': '3.109.153.20:9092', \n",
    "}\n",
    "producer = Producer(conf)\n",
    "\n",
    "def send_message(topic, message):\n",
    "    try:\n",
    "        producer.produce(topic, value=json.dumps(message).encode('utf-8'))\n",
    "        producer.flush() \n",
    "        print(f\"Sent message to {topic}: {message}\")\n",
    "    except Exception as e:\n",
    "        print(f\"Failed to send message: {e}\")\n",
    "send_message('demo_stock_project', {'hello': 'world'}) \n"
   ]
  },
  {
   "cell_type": "code",
   "execution_count": 3,
   "id": "3e1434aa-2725-4242-b2fe-01083bea29e3",
   "metadata": {},
   "outputs": [],
   "source": [
    "df=pd.read_csv(\"OneDrive/Documents/Kafka/Stock_data/indexProcessed.csv\")"
   ]
  },
  {
   "cell_type": "code",
   "execution_count": 4,
   "id": "d19f2513-5be8-4d31-8fb2-a1a915923f11",
   "metadata": {},
   "outputs": [
    {
     "data": {
      "text/html": [
       "<div>\n",
       "<style scoped>\n",
       "    .dataframe tbody tr th:only-of-type {\n",
       "        vertical-align: middle;\n",
       "    }\n",
       "\n",
       "    .dataframe tbody tr th {\n",
       "        vertical-align: top;\n",
       "    }\n",
       "\n",
       "    .dataframe thead th {\n",
       "        text-align: right;\n",
       "    }\n",
       "</style>\n",
       "<table border=\"1\" class=\"dataframe\">\n",
       "  <thead>\n",
       "    <tr style=\"text-align: right;\">\n",
       "      <th></th>\n",
       "      <th>Index</th>\n",
       "      <th>Date</th>\n",
       "      <th>Open</th>\n",
       "      <th>High</th>\n",
       "      <th>Low</th>\n",
       "      <th>Close</th>\n",
       "      <th>Adj Close</th>\n",
       "      <th>Volume</th>\n",
       "      <th>CloseUSD</th>\n",
       "    </tr>\n",
       "  </thead>\n",
       "  <tbody>\n",
       "    <tr>\n",
       "      <th>0</th>\n",
       "      <td>HSI</td>\n",
       "      <td>1986-12-31</td>\n",
       "      <td>2568.300049</td>\n",
       "      <td>2568.300049</td>\n",
       "      <td>2568.300049</td>\n",
       "      <td>2568.300049</td>\n",
       "      <td>2568.300049</td>\n",
       "      <td>0.0</td>\n",
       "      <td>333.879006</td>\n",
       "    </tr>\n",
       "    <tr>\n",
       "      <th>1</th>\n",
       "      <td>HSI</td>\n",
       "      <td>1987-01-02</td>\n",
       "      <td>2540.100098</td>\n",
       "      <td>2540.100098</td>\n",
       "      <td>2540.100098</td>\n",
       "      <td>2540.100098</td>\n",
       "      <td>2540.100098</td>\n",
       "      <td>0.0</td>\n",
       "      <td>330.213013</td>\n",
       "    </tr>\n",
       "    <tr>\n",
       "      <th>2</th>\n",
       "      <td>HSI</td>\n",
       "      <td>1987-01-05</td>\n",
       "      <td>2552.399902</td>\n",
       "      <td>2552.399902</td>\n",
       "      <td>2552.399902</td>\n",
       "      <td>2552.399902</td>\n",
       "      <td>2552.399902</td>\n",
       "      <td>0.0</td>\n",
       "      <td>331.811987</td>\n",
       "    </tr>\n",
       "    <tr>\n",
       "      <th>3</th>\n",
       "      <td>HSI</td>\n",
       "      <td>1987-01-06</td>\n",
       "      <td>2583.899902</td>\n",
       "      <td>2583.899902</td>\n",
       "      <td>2583.899902</td>\n",
       "      <td>2583.899902</td>\n",
       "      <td>2583.899902</td>\n",
       "      <td>0.0</td>\n",
       "      <td>335.906987</td>\n",
       "    </tr>\n",
       "    <tr>\n",
       "      <th>4</th>\n",
       "      <td>HSI</td>\n",
       "      <td>1987-01-07</td>\n",
       "      <td>2607.100098</td>\n",
       "      <td>2607.100098</td>\n",
       "      <td>2607.100098</td>\n",
       "      <td>2607.100098</td>\n",
       "      <td>2607.100098</td>\n",
       "      <td>0.0</td>\n",
       "      <td>338.923013</td>\n",
       "    </tr>\n",
       "  </tbody>\n",
       "</table>\n",
       "</div>"
      ],
      "text/plain": [
       "  Index        Date         Open         High          Low        Close  \\\n",
       "0   HSI  1986-12-31  2568.300049  2568.300049  2568.300049  2568.300049   \n",
       "1   HSI  1987-01-02  2540.100098  2540.100098  2540.100098  2540.100098   \n",
       "2   HSI  1987-01-05  2552.399902  2552.399902  2552.399902  2552.399902   \n",
       "3   HSI  1987-01-06  2583.899902  2583.899902  2583.899902  2583.899902   \n",
       "4   HSI  1987-01-07  2607.100098  2607.100098  2607.100098  2607.100098   \n",
       "\n",
       "     Adj Close  Volume    CloseUSD  \n",
       "0  2568.300049     0.0  333.879006  \n",
       "1  2540.100098     0.0  330.213013  \n",
       "2  2552.399902     0.0  331.811987  \n",
       "3  2583.899902     0.0  335.906987  \n",
       "4  2607.100098     0.0  338.923013  "
      ]
     },
     "execution_count": 4,
     "metadata": {},
     "output_type": "execute_result"
    }
   ],
   "source": [
    "df.head()"
   ]
  },
  {
   "cell_type": "code",
   "execution_count": 5,
   "id": "cb2ac69d-201f-4c3e-9751-49ca10d498e3",
   "metadata": {},
   "outputs": [
    {
     "data": {
      "text/plain": [
       "{'Index': 'HSI',\n",
       " 'Date': '2005-01-05',\n",
       " 'Open': 13939.01953,\n",
       " 'High': 13941.12988,\n",
       " 'Low': 13709.58008,\n",
       " 'Close': 13764.36035,\n",
       " 'Adj Close': 13764.36035,\n",
       " 'Volume': 530200600.0,\n",
       " 'CloseUSD': 1789.3668455000002}"
      ]
     },
     "execution_count": 5,
     "metadata": {},
     "output_type": "execute_result"
    }
   ],
   "source": [
    "df.sample(1).to_dict(orient=\"records\")[0]"
   ]
  },
  {
   "cell_type": "code",
   "execution_count": 25,
   "id": "57549059-1ea1-4482-abcc-ab9abd0ef8e3",
   "metadata": {},
   "outputs": [
    {
     "name": "stdout",
     "output_type": "stream",
     "text": [
      "Sent message to demo_stock_project: {'Index': 'IXIC', 'Date': '1983-06-28', 'Open': 315.869995, 'High': 315.869995, 'Low': 315.869995, 'Close': 315.869995, 'Adj Close': 315.869995, 'Volume': 0.0, 'CloseUSD': 315.869995}\n",
      "Sent message to demo_stock_project: {'Index': '399001.SZ', 'Date': '2013-12-24', 'Open': 8017.25, 'High': 8125.490234, 'Low': 7958.370117, 'Close': 8027.430176, 'Adj Close': 8027.339844, 'Volume': 70800.0, 'CloseUSD': 1284.38882816}\n",
      "Sent message to demo_stock_project: {'Index': 'N225', 'Date': '2018-06-27', 'Open': 22320.88086, 'High': 22356.53906, 'Low': 22205.33984, 'Close': 22271.76953, 'Adj Close': 22271.76953, 'Volume': 65800000.0, 'CloseUSD': 222.71769530000003}\n",
      "Sent message to demo_stock_project: {'Index': 'GSPTSE', 'Date': '2019-04-05', 'Open': 16337.90039, 'High': 16396.19922, 'Low': 16330.2002, 'Close': 16396.19922, 'Adj Close': 16396.19922, 'Volume': 17061800000.0, 'CloseUSD': 13608.845352599998}\n",
      "Sent message to demo_stock_project: {'Index': 'NYA', 'Date': '2011-11-07', 'Open': 7552.22998, 'High': 7592.810059, 'Low': 7461.160156, 'Close': 7590.430176, 'Adj Close': 7590.430176, 'Volume': 3429740000.0, 'CloseUSD': 7590.430176}\n",
      "Sent message to demo_stock_project: {'Index': 'HSI', 'Date': '1999-10-28', 'Open': 12780.95996, 'High': 13019.08984, 'Low': 12750.36035, 'Close': 12758.87988, 'Adj Close': 12758.87988, 'Volume': 0.0, 'CloseUSD': 1658.6543844}\n",
      "Sent message to demo_stock_project: {'Index': 'IXIC', 'Date': '2002-07-01', 'Open': 1457.040039, 'High': 1459.839966, 'Low': 1402.51001, 'Close': 1403.800049, 'Adj Close': 1403.800049, 'Volume': 2320650000.0, 'CloseUSD': 1403.800049}\n",
      "Sent message to demo_stock_project: {'Index': 'J203.JO', 'Date': '2012-10-31', 'Open': 37147.01953, 'High': 37279.48828, 'Low': 37075.46094, 'Close': 37156.28125, 'Adj Close': 37156.28125, 'Volume': 0.0, 'CloseUSD': 2600.9396875}\n",
      "Sent message to demo_stock_project: {'Index': 'J203.JO', 'Date': '2012-05-15', 'Open': 33533.55859, 'High': 33833.05078, 'Low': 33360.30859, 'Close': 33486.07813, 'Adj Close': 33486.07813, 'Volume': 0.0, 'CloseUSD': 2344.0254691000005}\n",
      "Sent message to demo_stock_project: {'Index': 'NYA', 'Date': '1989-12-12', 'Open': 2055.959961, 'High': 2055.959961, 'Low': 2055.959961, 'Close': 2055.959961, 'Adj Close': 2055.959961, 'Volume': 0.0, 'CloseUSD': 2055.959961}\n",
      "Sent message to demo_stock_project: {'Index': 'IXIC', 'Date': '2010-04-06', 'Open': 2420.330078, 'High': 2443.5, 'Low': 2417.77002, 'Close': 2436.810059, 'Adj Close': 2436.810059, 'Volume': 2220390000.0, 'CloseUSD': 2436.810059}\n",
      "Sent message to demo_stock_project: {'Index': 'N225', 'Date': '1995-03-09', 'Open': 16675.83984, 'High': 16839.32031, 'Low': 16675.83984, 'Close': 16763.08008, 'Adj Close': 16763.08008, 'Volume': 0.0, 'CloseUSD': 167.6308008}\n",
      "Sent message to demo_stock_project: {'Index': 'SSMI', 'Date': '2006-02-13', 'Open': 7842.0, 'High': 7889.5, 'Low': 7813.0, 'Close': 7889.299805, 'Adj Close': 7889.299805, 'Volume': 74364200.0, 'CloseUSD': 8757.122783550001}\n",
      "Sent message to demo_stock_project: {'Index': 'GDAXI', 'Date': '1988-04-25', 'Open': 1066.819946, 'High': 1066.819946, 'Low': 1066.819946, 'Close': 1066.819946, 'Adj Close': 1066.819946, 'Volume': 0.0, 'CloseUSD': 1301.52033412}\n",
      "Sent message to demo_stock_project: {'Index': 'IXIC', 'Date': '1983-07-27', 'Open': 315.040009, 'High': 315.040009, 'Low': 315.040009, 'Close': 315.040009, 'Adj Close': 315.040009, 'Volume': 0.0, 'CloseUSD': 315.040009}\n",
      "Sent message to demo_stock_project: {'Index': 'TWII', 'Date': '2012-07-11', 'Open': 7207.080078, 'High': 7261.589844, 'Low': 7202.379883, 'Close': 7257.910156, 'Adj Close': 7257.882324, 'Volume': 1463800.0, 'CloseUSD': 290.31640624}\n",
      "Sent message to demo_stock_project: {'Index': 'N225', 'Date': '1971-07-30', 'Open': 2661.590088, 'High': 2661.590088, 'Low': 2661.590088, 'Close': 2661.590088, 'Adj Close': 2661.590088, 'Volume': 0.0, 'CloseUSD': 26.61590088}\n",
      "Sent message to demo_stock_project: {'Index': 'N225', 'Date': '1971-01-19', 'Open': 2115.25, 'High': 2115.25, 'Low': 2115.25, 'Close': 2115.25, 'Adj Close': 2115.25, 'Volume': 0.0, 'CloseUSD': 21.1525}\n",
      "Sent message to demo_stock_project: {'Index': 'IXIC', 'Date': '2017-08-09', 'Open': 6322.919922, 'High': 6355.040039, 'Low': 6309.439941, 'Close': 6352.330078, 'Adj Close': 6352.330078, 'Volume': 2033760000.0, 'CloseUSD': 6352.330078}\n",
      "Sent message to demo_stock_project: {'Index': 'HSI', 'Date': '1993-04-30', 'Open': 6892.0, 'High': 6912.100098, 'Low': 6828.200195, 'Close': 6830.5, 'Adj Close': 6830.5, 'Volume': 0.0, 'CloseUSD': 887.965}\n",
      "Sent message to demo_stock_project: {'Index': 'NYA', 'Date': '1997-12-30', 'Open': 5395.560059, 'High': 5395.560059, 'Low': 5395.560059, 'Close': 5395.560059, 'Adj Close': 5395.560059, 'Volume': 0.0, 'CloseUSD': 5395.560059}\n",
      "Sent message to demo_stock_project: {'Index': 'GDAXI', 'Date': '2009-09-10', 'Open': 5596.450195, 'High': 5626.970215, 'Low': 5547.370117, 'Close': 5594.77002, 'Adj Close': 5594.77002, 'Volume': 139892600.0, 'CloseUSD': 6825.6194244}\n",
      "Sent message to demo_stock_project: {'Index': 'IXIC', 'Date': '2004-01-12', 'Open': 2093.540039, 'High': 2112.52002, 'Low': 2085.149902, 'Close': 2111.780029, 'Adj Close': 2111.780029, 'Volume': 2284010000.0, 'CloseUSD': 2111.780029}\n",
      "Sent message to demo_stock_project: {'Index': 'HSI', 'Date': '2005-10-28', 'Open': 14282.08984, 'High': 14295.88965, 'Low': 14189.46973, 'Close': 14215.83008, 'Adj Close': 14215.83008, 'Volume': 382679000.0, 'CloseUSD': 1848.0579104}\n",
      "Sent message to demo_stock_project: {'Index': 'IXIC', 'Date': '2014-02-10', 'Open': 4125.120117, 'High': 4148.299805, 'Low': 4122.609863, 'Close': 4148.169922, 'Adj Close': 4148.169922, 'Volume': 1811970000.0, 'CloseUSD': 4148.169922}\n",
      "Sent message to demo_stock_project: {'Index': 'IXIC', 'Date': '2008-08-25', 'Open': 2399.72998, 'High': 2399.72998, 'Low': 2362.199951, 'Close': 2365.590088, 'Adj Close': 2365.590088, 'Volume': 2366920000.0, 'CloseUSD': 2365.590088}\n",
      "Sent message to demo_stock_project: {'Index': 'IXIC', 'Date': '2009-06-11', 'Open': 1854.75, 'High': 1879.920044, 'Low': 1854.75, 'Close': 1862.369995, 'Adj Close': 1862.369995, 'Volume': 2463860000.0, 'CloseUSD': 1862.369995}\n",
      "Sent message to demo_stock_project: {'Index': 'GSPTSE', 'Date': '1998-10-08', 'Open': 5343.799805, 'High': 5401.600098, 'Low': 5334.299805, 'Close': 5401.600098, 'Adj Close': 5401.600098, 'Volume': 7664560000.0, 'CloseUSD': 4483.32808134}\n",
      "Sent message to demo_stock_project: {'Index': 'NYA', 'Date': '1988-09-28', 'Open': 1607.52002, 'High': 1607.52002, 'Low': 1607.52002, 'Close': 1607.52002, 'Adj Close': 1607.52002, 'Volume': 0.0, 'CloseUSD': 1607.52002}\n",
      "Sent message to demo_stock_project: {'Index': 'IXIC', 'Date': '2005-08-30', 'Open': 2130.879883, 'High': 2132.209961, 'Low': 2118.27002, 'Close': 2129.76001, 'Adj Close': 2129.76001, 'Volume': 1436400000.0, 'CloseUSD': 2129.76001}\n",
      "Sent message to demo_stock_project: {'Index': 'N225', 'Date': '2006-06-28', 'Open': 14998.00977, 'High': 14998.00977, 'Low': 14824.79981, 'Close': 14886.11035, 'Adj Close': 14886.11035, 'Volume': 96500000.0, 'CloseUSD': 148.8611035}\n",
      "Sent message to demo_stock_project: {'Index': 'IXIC', 'Date': '1996-10-09', 'Open': 1247.550049, 'High': 1249.569946, 'Low': 1235.469971, 'Close': 1237.97998, 'Adj Close': 1237.97998, 'Volume': 566240000.0, 'CloseUSD': 1237.97998}\n",
      "Sent message to demo_stock_project: {'Index': 'NYA', 'Date': '1981-06-08', 'Open': 811.640015, 'High': 811.640015, 'Low': 811.640015, 'Close': 811.640015, 'Adj Close': 811.640015, 'Volume': 0.0, 'CloseUSD': 811.640015}\n",
      "Sent message to demo_stock_project: {'Index': 'TWII', 'Date': '2014-04-21', 'Open': 8961.519531, 'High': 8965.580078, 'Low': 8938.469727, 'Close': 8951.19043, 'Adj Close': 8951.157227, 'Volume': 1811600.0, 'CloseUSD': 358.04761720000005}\n",
      "Sent message to demo_stock_project: {'Index': 'TWII', 'Date': '2007-08-24', 'Open': 8727.089844, 'High': 8741.639648, 'Low': 8668.049805, 'Close': 8690.089844, 'Adj Close': 8690.057617, 'Volume': 4262400.0, 'CloseUSD': 347.60359376}\n",
      "Sent message to demo_stock_project: {'Index': 'N100', 'Date': '2002-05-31', 'Open': 749.22998, 'High': 755.530029, 'Low': 747.030029, 'Close': 753.390015, 'Adj Close': 753.390015, 'Volume': 0.0, 'CloseUSD': 919.1358183}\n",
      "Sent message to demo_stock_project: {'Index': 'NSEI', 'Date': '2013-08-26', 'Open': 5499.399902, 'High': 5528.700195, 'Low': 5454.450195, 'Close': 5476.5, 'Adj Close': 5476.5, 'Volume': 242000.0, 'CloseUSD': 54.765}\n",
      "Sent message to demo_stock_project: {'Index': '399001.SZ', 'Date': '2006-02-13', 'Open': 3322.23999, 'High': 3322.969971, 'Low': 3257.610107, 'Close': 3307.699951, 'Adj Close': 3307.662842, 'Volume': 40000.0, 'CloseUSD': 529.23199216}\n",
      "Sent message to demo_stock_project: {'Index': 'GSPTSE', 'Date': '2000-10-03', 'Open': 10589.29981, 'High': 10635.90039, 'Low': 10456.40039, 'Close': 10456.40039, 'Adj Close': 10456.40039, 'Volume': 11579080000.0, 'CloseUSD': 8678.8123237}\n",
      "Sent message to demo_stock_project: {'Index': 'HSI', 'Date': '2019-03-12', 'Open': 28760.26953, 'High': 28941.08984, 'Low': 28734.08984, 'Close': 28920.86914, 'Adj Close': 28920.86914, 'Volume': 1918047200.0, 'CloseUSD': 3759.7129882}\n",
      "Sent message to demo_stock_project: {'Index': 'GSPTSE', 'Date': '2003-11-05', 'Open': 7876.899902, 'High': 7908.700195, 'Low': 7858.200195, 'Close': 7867.700195, 'Adj Close': 7867.700195, 'Volume': 13594970000.0, 'CloseUSD': 6530.19116185}\n",
      "Sent message to demo_stock_project: {'Index': 'TWII', 'Date': '2019-02-26', 'Open': 10403.03027, 'High': 10416.91016, 'Low': 10368.86035, 'Close': 10391.54981, 'Adj Close': 10391.54981, 'Volume': 2295000.0, 'CloseUSD': 415.6619924}\n",
      "Sent message to demo_stock_project: {'Index': 'NYA', 'Date': '1973-01-10', 'Open': 688.349976, 'High': 688.349976, 'Low': 688.349976, 'Close': 688.349976, 'Adj Close': 688.349976, 'Volume': 0.0, 'CloseUSD': 688.349976}\n",
      "Sent message to demo_stock_project: {'Index': 'SSMI', 'Date': '2018-08-17', 'Open': 9021.200195, 'High': 9029.139648, 'Low': 8961.169922, 'Close': 9003.910156, 'Adj Close': 9003.910156, 'Volume': 38901700.0, 'CloseUSD': 9994.34027316}\n"
     ]
    },
    {
     "ename": "KeyboardInterrupt",
     "evalue": "",
     "output_type": "error",
     "traceback": [
      "\u001b[1;31m---------------------------------------------------------------------------\u001b[0m",
      "\u001b[1;31mKeyboardInterrupt\u001b[0m                         Traceback (most recent call last)",
      "Cell \u001b[1;32mIn[25], line 4\u001b[0m\n\u001b[0;32m      2\u001b[0m demo_stock\u001b[38;5;241m=\u001b[39mdf\u001b[38;5;241m.\u001b[39msample(\u001b[38;5;241m1\u001b[39m)\u001b[38;5;241m.\u001b[39mto_dict(orient\u001b[38;5;241m=\u001b[39m\u001b[38;5;124m\"\u001b[39m\u001b[38;5;124mrecords\u001b[39m\u001b[38;5;124m\"\u001b[39m)[\u001b[38;5;241m0\u001b[39m]\n\u001b[0;32m      3\u001b[0m send_message(\u001b[38;5;124m'\u001b[39m\u001b[38;5;124mdemo_stock_project\u001b[39m\u001b[38;5;124m'\u001b[39m, demo_stock)\n\u001b[1;32m----> 4\u001b[0m \u001b[43msleep\u001b[49m\u001b[43m(\u001b[49m\u001b[38;5;241;43m2\u001b[39;49m\u001b[43m)\u001b[49m\n",
      "\u001b[1;31mKeyboardInterrupt\u001b[0m: "
     ]
    }
   ],
   "source": [
    "while True:\n",
    "    demo_stock=df.sample(1).to_dict(orient=\"records\")[0]\n",
    "    send_message('demo_stock_project', demo_stock)\n",
    "    sleep(2)"
   ]
  },
  {
   "cell_type": "code",
   "execution_count": 19,
   "id": "50990ac5-2b0c-4293-81a6-4c39eb779bbf",
   "metadata": {},
   "outputs": [
    {
     "data": {
      "text/plain": [
       "0"
      ]
     },
     "execution_count": 19,
     "metadata": {},
     "output_type": "execute_result"
    }
   ],
   "source": [
    "producer.flush()"
   ]
  },
  {
   "cell_type": "code",
   "execution_count": null,
   "id": "96b68fa1-06fa-4c04-9ce7-8c03aad801bb",
   "metadata": {},
   "outputs": [],
   "source": []
  }
 ],
 "metadata": {
  "kernelspec": {
   "display_name": "Python 3 (ipykernel)",
   "language": "python",
   "name": "python3"
  },
  "language_info": {
   "codemirror_mode": {
    "name": "ipython",
    "version": 3
   },
   "file_extension": ".py",
   "mimetype": "text/x-python",
   "name": "python",
   "nbconvert_exporter": "python",
   "pygments_lexer": "ipython3",
   "version": "3.12.2"
  }
 },
 "nbformat": 4,
 "nbformat_minor": 5
}
